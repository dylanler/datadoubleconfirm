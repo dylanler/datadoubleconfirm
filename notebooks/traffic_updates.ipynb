{
 "cells": [
  {
   "cell_type": "code",
   "execution_count": 2,
   "metadata": {},
   "outputs": [],
   "source": [
    "import requests\n",
    "from bs4 import BeautifulSoup\n",
    "import pandas as pd\n",
    "import numpy as np\n",
    "\n",
    "url = 'https://onemotoring.lta.gov.sg/content/onemotoring/home/driving/traffic_information/traffic_updates_and_road_closures.html?type=tc'"
   ]
  },
  {
   "cell_type": "code",
   "execution_count": 3,
   "metadata": {},
   "outputs": [],
   "source": [
    "hdr = {'User-Agent': 'Mozilla/5.0'}"
   ]
  },
  {
   "cell_type": "code",
   "execution_count": 4,
   "metadata": {},
   "outputs": [],
   "source": [
    "# Send a GET request to the URL\n",
    "response = requests.get(url, headers=hdr)\n",
    "\n",
    "# Parse HTML content using BeautifulSoup\n",
    "soup = BeautifulSoup(response.content, 'html.parser')"
   ]
  },
  {
   "cell_type": "code",
   "execution_count": 7,
   "metadata": {},
   "outputs": [],
   "source": [
    "divs = soup.find_all('div', class_ = \"col-md-10 traffic-updates__desc\")"
   ]
  },
  {
   "cell_type": "code",
   "execution_count": 8,
   "metadata": {},
   "outputs": [
    {
     "data": {
      "text/plain": [
       "[<div class=\"col-md-10 traffic-updates__desc\">Heavy Traffic on SLE (towards BKE) at Woodlands Ave 12 Exit.</div>,\n",
       " <div class=\"col-md-10 traffic-updates__desc\">Black Out at Lorong 4 Toa Payoh/Lorong 5 Toa Payoh Junction.</div>,\n",
       " <div class=\"col-md-10 traffic-updates__desc\">Heavy Traffic on PIE (towards Tuas) at CTE(SLE) Exit.</div>,\n",
       " <div class=\"col-md-10 traffic-updates__desc\">Heavy Traffic on CTE (towards SLE) after Moulmein Rd Exit.</div>,\n",
       " <div class=\"col-md-10 traffic-updates__desc\">Roadworks on Bartley Road East (towards Airport Road) after Kim Chuan Road. Avoid right lane.</div>,\n",
       " <div class=\"col-md-10 traffic-updates__desc\">Roadworks on PIE (towards Tuas) at Bedok Reservoir Entrance.</div>,\n",
       " <div class=\"col-md-10 traffic-updates__desc\">Vehicle breakdown on PIE (towards Changi Airport) after Jurong West Ave 2. Avoid lane 4.</div>,\n",
       " <div class=\"col-md-10 traffic-updates__desc\">Roadworks on PIE (towards Tuas) at Adam Rd Entrance.</div>,\n",
       " <div class=\"col-md-10 traffic-updates__desc\">Roadworks on New Upper Changi Road (toward City) after Bedok Road. Avoid right lane.</div>,\n",
       " <div class=\"col-md-10 traffic-updates__desc\">Roadworks on Thomson Road (towards SLE) after Chancery Lane.</div>,\n",
       " <div class=\"col-md-10 traffic-updates__desc\">Roadworks on Balestier Road near Balestier Road/Thomson Road Junction.</div>,\n",
       " <div class=\"col-md-10 traffic-updates__desc\">Roadworks on Kampong Java Road (towards Keng Lee Road) after Bukit Timah Road.</div>,\n",
       " <div class=\"col-md-10 traffic-updates__desc\">Roadworks on Beach Road (towards Jalan Sultan) after Java Road. Avoid left lane.</div>,\n",
       " <div class=\"col-md-10 traffic-updates__desc\">Roadworks on Jurong Pier Road (towards Jurong Pier Flyover) after Bird Park Drive.</div>,\n",
       " <div class=\"col-md-10 traffic-updates__desc\">Roadworks on West Coast Highway (towards Tuas) at W Coast Hwy Flyover. Avoid left lane.</div>,\n",
       " <div class=\"col-md-10 traffic-updates__desc\">Roadworks on Pioneer Road (towards Tuas) after Tuas Road.</div>,\n",
       " <div class=\"col-md-10 traffic-updates__desc\">Roadworks on Jalan Eunos (towards Still Rd) after PIE.</div>,\n",
       " <div class=\"col-md-10 traffic-updates__desc\">Roadworks on Queensway (towards Lornie) after Commonwealth Avenue. Avoid left lane.</div>,\n",
       " <div class=\"col-md-10 traffic-updates__desc\">Roadworks on Telok Blangah Road (towards City) after Harbourfront Avenue.</div>,\n",
       " <div class=\"col-md-10 traffic-updates__desc\">Roadworks on Jurong West Avenue 2 (towards PIE) after Corporation Road. Avoid right lane.</div>,\n",
       " <div class=\"col-md-10 traffic-updates__desc\">Roadworks on Jurong West Avenue 2 (towards Corporation Road) after PIE. Avoid right lane.</div>,\n",
       " <div class=\"col-md-10 traffic-updates__desc\">Roadworks on Upper Changi Road East towards PIE. Avoid left lane.</div>,\n",
       " <div class=\"col-md-10 traffic-updates__desc\">Roadworks on Sims Avenue (toward Changi) after Lavender Street. Avoid left lane.</div>,\n",
       " <div class=\"col-md-10 traffic-updates__desc\">Roadworks on Xilin Avenue (towards Changi South Avenue 1) after Upper Changi Road East. Avoid right lane.</div>,\n",
       " <div class=\"col-md-10 traffic-updates__desc\">Roadworks on Upper Serangoon Road (towards Sengkang) after Braddell Rd.</div>,\n",
       " <div class=\"col-md-10 traffic-updates__desc\">Roadworks on Tampines Road (towards Hougang Avenue 7) after Fish Farm Road 1. Avoid right lane.</div>,\n",
       " <div class=\"col-md-10 traffic-updates__desc\">Roadworks on Upper Serangoon Road (towards City) after Upper Aljunied Road.</div>,\n",
       " <div class=\"col-md-10 traffic-updates__desc\">Roadworks on Upper Serangoon Road (towards Sengkang) after Braddell Rd.</div>,\n",
       " <div class=\"col-md-10 traffic-updates__desc\">Roadworks on Upper Serangoon Road (towards Sengkang) after PIE. Avoid left lane.</div>,\n",
       " <div class=\"col-md-10 traffic-updates__desc\">Roadworks on Upper Serangoon Road (towards Sengkang) after Serangoon Avenue 2. Avoid right lane.</div>,\n",
       " <div class=\"col-md-10 traffic-updates__desc\">Roadworks on Upper Serangoon Road (towards City) after Serangoon Central. Avoid right lane.</div>,\n",
       " <div class=\"col-md-10 traffic-updates__desc\">Roadworks on Upper Serangoon Road (towards City) after Serangoon Avenue 2.</div>,\n",
       " <div class=\"col-md-10 traffic-updates__desc\">Roadworks on Upper Serangoon Road (towards Sengkang) after Potong Pasir Avenue 1.</div>,\n",
       " <div class=\"col-md-10 traffic-updates__desc\">Roadworks on PIE (towards Changi Airport) at TPE Exit.</div>,\n",
       " <div class=\"col-md-10 traffic-updates__desc\">Roadworks on Upper Serangoon Road (towards City) after Upper Aljunied Road. Avoid right lane.</div>,\n",
       " <div class=\"col-md-10 traffic-updates__desc\">Roadworks on Selegie Road (towards Middle Road) after Prinsep Street.</div>,\n",
       " <div class=\"col-md-10 traffic-updates__desc\">Roadworks on Boundary Road (towards Yio Chu Kang Link) after Upper Serangoon Road. Avoid right lane.</div>,\n",
       " <div class=\"col-md-10 traffic-updates__desc\">Roadworks on Serangoon Road (towards Sengkang) after Balestier Road.</div>,\n",
       " <div class=\"col-md-10 traffic-updates__desc\">Roadworks on Serangoon Road (towards Sengkang) after Towner Road. Avoid left lane.</div>,\n",
       " <div class=\"col-md-10 traffic-updates__desc\">Roadworks on Serangoon Road (towards Sengkang) after St George`s Rd.</div>,\n",
       " <div class=\"col-md-10 traffic-updates__desc\">Roadworks on Commonwealth Avenue West (towards Tuas) after Clementi Avenue 3.</div>,\n",
       " <div class=\"col-md-10 traffic-updates__desc\">Roadworks on Jurong Town Hall Road near Jurong Town Hall Road/West Coast Road Junction.</div>,\n",
       " <div class=\"col-md-10 traffic-updates__desc\">Roadworks on Clementi Road (towards Upper Bukit Timah Road) after King Albert Park.</div>,\n",
       " <div class=\"col-md-10 traffic-updates__desc\">Roadworks on Tampines Road (towards Jalan Teliti) after Hougang Avenue 3. Avoid left lane.</div>,\n",
       " <div class=\"col-md-10 traffic-updates__desc\">Roadworks on Tampines Road near Hougang Avenue 3/Tampines Road Junction.</div>,\n",
       " <div class=\"col-md-10 traffic-updates__desc\">Roadworks on Marine Parade Road (towards Marine Drive) after Joo Chiat Road. Avoid left lane.</div>,\n",
       " <div class=\"col-md-10 traffic-updates__desc\">Roadworks on Upper Bukit Timah Road (towards City) after Cashew Road. Avoid right lane.</div>,\n",
       " <div class=\"col-md-10 traffic-updates__desc\">Roadworks on Upper Bukit Timah Road (towards Woodlands) after Old Jurong Road. Avoid left lane.</div>,\n",
       " <div class=\"col-md-10 traffic-updates__desc\">Roadworks on Upper Bukit Timah Road (towards Woodlands) after Gombak Drive.</div>,\n",
       " <div class=\"col-md-10 traffic-updates__desc\">Roadworks on Pasir Panjang Road (towards Tuas) after Alexandra Road. Avoid left lane.</div>,\n",
       " <div class=\"col-md-10 traffic-updates__desc\">Roadworks on Marine Parade Road (towards Marine Terrace) after Telok Kurau Road. Avoid left lane.</div>,\n",
       " <div class=\"col-md-10 traffic-updates__desc\">Roadworks on Woodlands Road (towards City) after Turf Club avenue. Avoid left lane.</div>,\n",
       " <div class=\"col-md-10 traffic-updates__desc\">Roadworks on Upper Bukit Timah Road (towards PIE) after Clementi Road. Avoid left lane.</div>,\n",
       " <div class=\"col-md-10 traffic-updates__desc\">Roadworks on Toh Tuck Avenue (towards Toh Tuck Link) after PIE. Avoid left lane.</div>,\n",
       " <div class=\"col-md-10 traffic-updates__desc\">Roadworks on Thomson Road (towards Newton) after Marymount Road. Avoid left lane.</div>,\n",
       " <div class=\"col-md-10 traffic-updates__desc\">Roadworks on West Coast Road (towards Pandan Gardens) after West Coast Highway. Avoid left lane.</div>,\n",
       " <div class=\"col-md-10 traffic-updates__desc\">Roadworks on New Upper Changi Road (toward Changi) after Bedok North Road. Avoid left lane.</div>,\n",
       " <div class=\"col-md-10 traffic-updates__desc\">Roadworks on Jurong Town Hall Road (towards Jurong East Street 13) after Boon Lay Way. Avoid right lane.</div>,\n",
       " <div class=\"col-md-10 traffic-updates__desc\">Roadworks on Jalan Buroh (towards Tuas) after Penjuru Road.</div>,\n",
       " <div class=\"col-md-10 traffic-updates__desc\">Roadworks on Marine Parade Road (towards Telok Kurau Road) after Marine Terrace. Avoid left lane.</div>,\n",
       " <div class=\"col-md-10 traffic-updates__desc\">Roadworks on West Coast Highway (towards City) at W Coast Hwy Flyover. Avoid right lane.</div>,\n",
       " <div class=\"col-md-10 traffic-updates__desc\">Roadworks on Jalan Jurong Kechil near Jalan Anak Bukit/Jalan Jurong Kechil Junction.</div>,\n",
       " <div class=\"col-md-10 traffic-updates__desc\">Roadworks on Jurong Town Hall Road (towards Teban Gardens Road) after West Coast Road. Avoid right lane.</div>,\n",
       " <div class=\"col-md-10 traffic-updates__desc\">Roadworks on Commonwealth Avenue West (towards Tuas) after Dover Avenue.</div>,\n",
       " <div class=\"col-md-10 traffic-updates__desc\">Roadworks on Keppel Road (towards Tuas) after Cantonment Link. Avoid right lane.</div>,\n",
       " <div class=\"col-md-10 traffic-updates__desc\">Roadworks on Telok Blangah Road (towards Tuas) after Henderson Road.</div>,\n",
       " <div class=\"col-md-10 traffic-updates__desc\">Roadworks on Keppel Road (towards City) after Tanjong Pagar Road.</div>,\n",
       " <div class=\"col-md-10 traffic-updates__desc\">Roadworks on Telok Blangah Road (towards City) after Henderson Road.</div>,\n",
       " <div class=\"col-md-10 traffic-updates__desc\">Roadworks on Upper Bukit Timah Road (towards Bukit Timah Avenue) after Jalan Jurong Kechil. Avoid left lane.</div>,\n",
       " <div class=\"col-md-10 traffic-updates__desc\">Roadworks on Telok Blangah Road (towards City) after Harbourfront Avenue.</div>,\n",
       " <div class=\"col-md-10 traffic-updates__desc\">Roadworks on West Coast Highway (towards Tuas) after Clementi Road. Avoid right lane.</div>,\n",
       " <div class=\"col-md-10 traffic-updates__desc\">Roadworks on West Coast Highway (towards Tuas) after Clementi Road. Avoid right lane.</div>,\n",
       " <div class=\"col-md-10 traffic-updates__desc\">Roadworks on Havelock Road towards Outram Road. Avoid left lane.</div>,\n",
       " <div class=\"col-md-10 traffic-updates__desc\">Roadworks on West Coast Highway (towards Tuas) after Wholesale Centre. Avoid left lane.</div>,\n",
       " <div class=\"col-md-10 traffic-updates__desc\">Roadworks on Thomson Road (towards SLE) after Chancery Lane.</div>,\n",
       " <div class=\"col-md-10 traffic-updates__desc\">Roadworks on Dairy Farm Road (towards Dairy Farm Crescent). Avoid left lane.</div>,\n",
       " <div class=\"col-md-10 traffic-updates__desc\">Roadworks on Thomson Road (towards Keng Lee Road) after Moulmein Road. Avoid right lane.</div>,\n",
       " <div class=\"col-md-10 traffic-updates__desc\">Roadworks on Bukit Timah Road (towards Woodlands) after Holland Link. Avoid right lane.</div>,\n",
       " <div class=\"col-md-10 traffic-updates__desc\">Roadworks on PIE (towards Tuas) after Jalan Bahar. Avoid lane 5.</div>,\n",
       " <div class=\"col-md-10 traffic-updates__desc\">Roadworks on West Coast Highway (towards City) after Buroh Flyover. Avoid right lane.</div>,\n",
       " <div class=\"col-md-10 traffic-updates__desc\">Roadworks on Bukit Panjang Road (towards BKE) after Bangkit Road. Avoid left lane.</div>,\n",
       " <div class=\"col-md-10 traffic-updates__desc\">Roadworks on Clementi Road (towards Clementi Crescent) after Maju Drive. Avoid right lane.</div>,\n",
       " <div class=\"col-md-10 traffic-updates__desc\">Roadworks on Commonwealth Avenue West (towards City) after Clementi Road. Avoid right lane.</div>,\n",
       " <div class=\"col-md-10 traffic-updates__desc\">Roadworks on KJE (towards PIE) before PIE(Changi) Exit. Avoid lane 4.</div>,\n",
       " <div class=\"col-md-10 traffic-updates__desc\">Roadworks on PIE (towards Changi Airport) before Jurong Town Hall Rd. Avoid lane 3.</div>,\n",
       " <div class=\"col-md-10 traffic-updates__desc\">Roadworks on Draycott Drive (towards Claymore Hill) after Stevens Road. Avoid left lane.</div>,\n",
       " <div class=\"col-md-10 traffic-updates__desc\">Roadworks on Beach Road (towards Liang Seah Street) after Middle Road.</div>,\n",
       " <div class=\"col-md-10 traffic-updates__desc\">Roadworks on Beach Road (towards Ophir Road) after Haji Lane. Avoid right lane.</div>,\n",
       " <div class=\"col-md-10 traffic-updates__desc\">Roadworks on Upper Cross Street (towards Merchant Road) after Pearl`s Hill Road.</div>,\n",
       " <div class=\"col-md-10 traffic-updates__desc\">Roadworks on Havelock Road (towards Saiboo Street) after Upper Cross Street.</div>,\n",
       " <div class=\"col-md-10 traffic-updates__desc\">Roadworks on Beach Road (towards Middle Road) after Purvis Street.</div>,\n",
       " <div class=\"col-md-10 traffic-updates__desc\">Roadworks on PIE (towards Changi Airport) after Jurong West Ave 2. Avoid lane 3.</div>,\n",
       " <div class=\"col-md-10 traffic-updates__desc\">Roadworks on Marine Parade Road (towards Marine Drive) after Joo Chiat Road. Avoid right lane.</div>]"
      ]
     },
     "execution_count": 8,
     "metadata": {},
     "output_type": "execute_result"
    }
   ],
   "source": [
    "divs"
   ]
  },
  {
   "cell_type": "code",
   "execution_count": 9,
   "metadata": {},
   "outputs": [
    {
     "data": {
      "text/plain": [
       "93"
      ]
     },
     "execution_count": 9,
     "metadata": {},
     "output_type": "execute_result"
    }
   ],
   "source": [
    "len(divs)"
   ]
  },
  {
   "cell_type": "code",
   "execution_count": 10,
   "metadata": {},
   "outputs": [],
   "source": [
    "times = soup.find_all('div', class_ = \"col-md-2 traffic-updates__time align-right\")"
   ]
  },
  {
   "cell_type": "code",
   "execution_count": 14,
   "metadata": {},
   "outputs": [
    {
     "data": {
      "text/plain": [
       "<div class=\"col-md-2 traffic-updates__time align-right\">16/05 16:06</div>"
      ]
     },
     "execution_count": 14,
     "metadata": {},
     "output_type": "execute_result"
    }
   ],
   "source": [
    "times[0]"
   ]
  },
  {
   "cell_type": "code",
   "execution_count": 11,
   "metadata": {
    "scrolled": true
   },
   "outputs": [
    {
     "data": {
      "text/plain": [
       "93"
      ]
     },
     "execution_count": 11,
     "metadata": {},
     "output_type": "execute_result"
    }
   ],
   "source": [
    "len(times)"
   ]
  },
  {
   "cell_type": "code",
   "execution_count": 13,
   "metadata": {
    "scrolled": true
   },
   "outputs": [
    {
     "data": {
      "text/plain": [
       "'Heavy Traffic on SLE (towards BKE) at Woodlands Ave 12 Exit.'"
      ]
     },
     "execution_count": 13,
     "metadata": {},
     "output_type": "execute_result"
    }
   ],
   "source": [
    "divs[0].get_text()"
   ]
  },
  {
   "cell_type": "code",
   "execution_count": 15,
   "metadata": {},
   "outputs": [],
   "source": [
    "traffic_list = []\n",
    "for i in range(0,len(divs)):\n",
    "    descr = divs[i].get_text()\n",
    "    timestamp = times[i].get_text()\n",
    "    traffic_list.append((descr, timestamp))"
   ]
  },
  {
   "cell_type": "code",
   "execution_count": 17,
   "metadata": {},
   "outputs": [],
   "source": [
    "df = pd.DataFrame(np.array(traffic_list))\n",
    "df.columns = ['desc','timestamp']"
   ]
  },
  {
   "cell_type": "code",
   "execution_count": 0,
   "metadata": {},
   "outputs": [],
   "source": []
  }
 ],
 "metadata": {
  "associatedRecipe": "recipe_from_notebook_huixiang_chuas_Python_notebook",
  "createdOn": 1715847080158,
  "creator": "huixiang.chua",
  "customFields": {},
  "hide_input": false,
  "kernelspec": {
   "display_name": "Python (env py_36_hx_scraper)",
   "language": "python",
   "name": "py-dku-venv-py_36_hx_scraper"
  },
  "language_info": {
   "codemirror_mode": {
    "name": "ipython",
    "version": 3
   },
   "file_extension": ".py",
   "mimetype": "text/x-python",
   "name": "python",
   "nbconvert_exporter": "python",
   "pygments_lexer": "ipython3",
   "version": "3.6.8"
  },
  "modifiedBy": "huixiang.chua",
  "tags": [
   "recipe-editor"
  ]
 },
 "nbformat": 4,
 "nbformat_minor": 1
}
