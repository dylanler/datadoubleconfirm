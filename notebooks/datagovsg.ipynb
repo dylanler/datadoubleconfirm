{
 "cells": [
  {
   "cell_type": "markdown",
   "metadata": {},
   "source": [
    "### This notebook demonstrates how to convert the output of a API query for a dataset from data.gov.sg to a pandas dataframe. The example used below is for the [dataset](https://beta.data.gov.sg/datasets?query=income&resultId=d_ecc9bf4002ce1ea951abbb59432dfc82) on Average Monthly Household Income Among Resident Households by Income Quintile and Type of Dwelling."
   ]
  },
  {
   "cell_type": "code",
   "execution_count": 1,
   "metadata": {},
   "outputs": [
    {
     "name": "stdout",
     "output_type": "stream",
     "text": [
      "{'help': 'https://data.gov.sg/api/3/action/help_show?name=datastore_search', 'success': True, 'result': {'resource_id': 'd_ecc9bf4002ce1ea951abbb59432dfc82', 'fields': [{'type': 'text', 'id': 'Dollar'}, {'type': 'numeric', 'id': 'Total3'}, {'type': 'numeric', 'id': 'HDBDwellings_TotalHDB'}, {'type': 'numeric', 'id': 'HDBDwellings_1_and2_RoomFlats4'}, {'type': 'numeric', 'id': 'HDBDwellings_3_RoomFlats'}, {'type': 'numeric', 'id': 'HDBDwellings_4_RoomFlats'}, {'type': 'numeric', 'id': 'HDBDwellings_5_RoomandExecutiveFlats'}, {'type': 'numeric', 'id': 'CondominiumsandOtherApartments'}, {'type': 'numeric', 'id': 'LandedProperties'}, {'type': 'int4', 'id': '_id'}], 'records': [{'_id': 1, 'Dollar': 'Total', 'Total3': '11777', 'HDBDwellings_TotalHDB': '8731', 'HDBDwellings_1_and2_RoomFlats4': '2521', 'HDBDwellings_3_RoomFlats': '5868', 'HDBDwellings_4_RoomFlats': '8827', 'HDBDwellings_5_RoomandExecutiveFlats': '12244', 'CondominiumsandOtherApartments': '21830', 'LandedProperties': '28937'}, {'_id': 2, 'Dollar': '1st - 20th 2/', 'Total3': '2235', 'HDBDwellings_TotalHDB': '2293', 'HDBDwellings_1_and2_RoomFlats4': '1583', 'HDBDwellings_3_RoomFlats': '2091', 'HDBDwellings_4_RoomFlats': '2669', 'HDBDwellings_5_RoomandExecutiveFlats': '2668', 'CondominiumsandOtherApartments': '1470', 'LandedProperties': '1605'}, {'_id': 3, 'Dollar': '21st - 40th', 'Total3': '5981', 'HDBDwellings_TotalHDB': '5916', 'HDBDwellings_1_and2_RoomFlats4': '3361', 'HDBDwellings_3_RoomFlats': '4806', 'HDBDwellings_4_RoomFlats': '6214', 'HDBDwellings_5_RoomandExecutiveFlats': '7224', 'CondominiumsandOtherApartments': '6308', 'LandedProperties': '7863'}, {'_id': 4, 'Dollar': '41st - 60th', 'Total3': '9678', 'HDBDwellings_TotalHDB': '9434', 'HDBDwellings_1_and2_RoomFlats4': '4414', 'HDBDwellings_3_RoomFlats': '7001', 'HDBDwellings_4_RoomFlats': '9558', 'HDBDwellings_5_RoomandExecutiveFlats': '11074', 'CondominiumsandOtherApartments': '10741', 'LandedProperties': '13136'}, {'_id': 5, 'Dollar': '61st - 80th', 'Total3': '14407', 'HDBDwellings_TotalHDB': '13324', 'HDBDwellings_1_and2_RoomFlats4': '5928', 'HDBDwellings_3_RoomFlats': '9313', 'HDBDwellings_4_RoomFlats': '12986', 'HDBDwellings_5_RoomandExecutiveFlats': '15720', 'CondominiumsandOtherApartments': '16853', 'LandedProperties': '20986'}, {'_id': 6, 'Dollar': '81st - 100th', 'Total3': '26587', 'HDBDwellings_TotalHDB': '18012', 'HDBDwellings_1_and2_RoomFlats4': '10608', 'HDBDwellings_3_RoomFlats': '12291', 'HDBDwellings_4_RoomFlats': '16467', 'HDBDwellings_5_RoomandExecutiveFlats': '22312', 'CondominiumsandOtherApartments': '30945', 'LandedProperties': '48056'}], '_links': {'start': '/api/action/datastore_search?resource_id=d_ecc9bf4002ce1ea951abbb59432dfc82', 'next': '/api/action/datastore_search?resource_id=d_ecc9bf4002ce1ea951abbb59432dfc82&offset=100'}, 'total': 6}}\n"
     ]
    }
   ],
   "source": [
    "import requests\n",
    "          \n",
    "base_url = \"https://data.gov.sg/api/action/datastore_search\"\n",
    "url = base_url + \"?resource_id=d_ecc9bf4002ce1ea951abbb59432dfc82\"\n",
    "        \n",
    "response = requests.get(url)\n",
    "print(response.json())"
   ]
  },
  {
   "cell_type": "code",
   "execution_count": 13,
   "metadata": {},
   "outputs": [
    {
     "data": {
      "text/plain": [
       "dict"
      ]
     },
     "execution_count": 13,
     "metadata": {},
     "output_type": "execute_result"
    }
   ],
   "source": [
    "type(response.json())"
   ]
  },
  {
   "cell_type": "code",
   "execution_count": 15,
   "metadata": {},
   "outputs": [
    {
     "data": {
      "text/plain": [
       "[{'_id': 1,\n",
       "  'Dollar': 'Total',\n",
       "  'Total3': '11777',\n",
       "  'HDBDwellings_TotalHDB': '8731',\n",
       "  'HDBDwellings_1_and2_RoomFlats4': '2521',\n",
       "  'HDBDwellings_3_RoomFlats': '5868',\n",
       "  'HDBDwellings_4_RoomFlats': '8827',\n",
       "  'HDBDwellings_5_RoomandExecutiveFlats': '12244',\n",
       "  'CondominiumsandOtherApartments': '21830',\n",
       "  'LandedProperties': '28937'},\n",
       " {'_id': 2,\n",
       "  'Dollar': '1st - 20th 2/',\n",
       "  'Total3': '2235',\n",
       "  'HDBDwellings_TotalHDB': '2293',\n",
       "  'HDBDwellings_1_and2_RoomFlats4': '1583',\n",
       "  'HDBDwellings_3_RoomFlats': '2091',\n",
       "  'HDBDwellings_4_RoomFlats': '2669',\n",
       "  'HDBDwellings_5_RoomandExecutiveFlats': '2668',\n",
       "  'CondominiumsandOtherApartments': '1470',\n",
       "  'LandedProperties': '1605'},\n",
       " {'_id': 3,\n",
       "  'Dollar': '21st - 40th',\n",
       "  'Total3': '5981',\n",
       "  'HDBDwellings_TotalHDB': '5916',\n",
       "  'HDBDwellings_1_and2_RoomFlats4': '3361',\n",
       "  'HDBDwellings_3_RoomFlats': '4806',\n",
       "  'HDBDwellings_4_RoomFlats': '6214',\n",
       "  'HDBDwellings_5_RoomandExecutiveFlats': '7224',\n",
       "  'CondominiumsandOtherApartments': '6308',\n",
       "  'LandedProperties': '7863'},\n",
       " {'_id': 4,\n",
       "  'Dollar': '41st - 60th',\n",
       "  'Total3': '9678',\n",
       "  'HDBDwellings_TotalHDB': '9434',\n",
       "  'HDBDwellings_1_and2_RoomFlats4': '4414',\n",
       "  'HDBDwellings_3_RoomFlats': '7001',\n",
       "  'HDBDwellings_4_RoomFlats': '9558',\n",
       "  'HDBDwellings_5_RoomandExecutiveFlats': '11074',\n",
       "  'CondominiumsandOtherApartments': '10741',\n",
       "  'LandedProperties': '13136'},\n",
       " {'_id': 5,\n",
       "  'Dollar': '61st - 80th',\n",
       "  'Total3': '14407',\n",
       "  'HDBDwellings_TotalHDB': '13324',\n",
       "  'HDBDwellings_1_and2_RoomFlats4': '5928',\n",
       "  'HDBDwellings_3_RoomFlats': '9313',\n",
       "  'HDBDwellings_4_RoomFlats': '12986',\n",
       "  'HDBDwellings_5_RoomandExecutiveFlats': '15720',\n",
       "  'CondominiumsandOtherApartments': '16853',\n",
       "  'LandedProperties': '20986'},\n",
       " {'_id': 6,\n",
       "  'Dollar': '81st - 100th',\n",
       "  'Total3': '26587',\n",
       "  'HDBDwellings_TotalHDB': '18012',\n",
       "  'HDBDwellings_1_and2_RoomFlats4': '10608',\n",
       "  'HDBDwellings_3_RoomFlats': '12291',\n",
       "  'HDBDwellings_4_RoomFlats': '16467',\n",
       "  'HDBDwellings_5_RoomandExecutiveFlats': '22312',\n",
       "  'CondominiumsandOtherApartments': '30945',\n",
       "  'LandedProperties': '48056'}]"
      ]
     },
     "execution_count": 15,
     "metadata": {},
     "output_type": "execute_result"
    }
   ],
   "source": [
    "response.json()['result']['records']"
   ]
  },
  {
   "cell_type": "code",
   "execution_count": 6,
   "metadata": {},
   "outputs": [],
   "source": [
    "from pandas import json_normalize"
   ]
  },
  {
   "cell_type": "code",
   "execution_count": 17,
   "metadata": {},
   "outputs": [],
   "source": [
    "df = json_normalize(response.json()['result']['records'])"
   ]
  },
  {
   "cell_type": "code",
   "execution_count": 18,
   "metadata": {
    "scrolled": false
   },
   "outputs": [
    {
     "data": {
      "text/html": [
       "<div>\n",
       "<style scoped>\n",
       "    .dataframe tbody tr th:only-of-type {\n",
       "        vertical-align: middle;\n",
       "    }\n",
       "\n",
       "    .dataframe tbody tr th {\n",
       "        vertical-align: top;\n",
       "    }\n",
       "\n",
       "    .dataframe thead th {\n",
       "        text-align: right;\n",
       "    }\n",
       "</style>\n",
       "<table border=\"1\" class=\"dataframe\">\n",
       "  <thead>\n",
       "    <tr style=\"text-align: right;\">\n",
       "      <th></th>\n",
       "      <th>_id</th>\n",
       "      <th>Dollar</th>\n",
       "      <th>Total3</th>\n",
       "      <th>HDBDwellings_TotalHDB</th>\n",
       "      <th>HDBDwellings_1_and2_RoomFlats4</th>\n",
       "      <th>HDBDwellings_3_RoomFlats</th>\n",
       "      <th>HDBDwellings_4_RoomFlats</th>\n",
       "      <th>HDBDwellings_5_RoomandExecutiveFlats</th>\n",
       "      <th>CondominiumsandOtherApartments</th>\n",
       "      <th>LandedProperties</th>\n",
       "    </tr>\n",
       "  </thead>\n",
       "  <tbody>\n",
       "    <tr>\n",
       "      <th>0</th>\n",
       "      <td>1</td>\n",
       "      <td>Total</td>\n",
       "      <td>11777</td>\n",
       "      <td>8731</td>\n",
       "      <td>2521</td>\n",
       "      <td>5868</td>\n",
       "      <td>8827</td>\n",
       "      <td>12244</td>\n",
       "      <td>21830</td>\n",
       "      <td>28937</td>\n",
       "    </tr>\n",
       "    <tr>\n",
       "      <th>1</th>\n",
       "      <td>2</td>\n",
       "      <td>1st - 20th 2/</td>\n",
       "      <td>2235</td>\n",
       "      <td>2293</td>\n",
       "      <td>1583</td>\n",
       "      <td>2091</td>\n",
       "      <td>2669</td>\n",
       "      <td>2668</td>\n",
       "      <td>1470</td>\n",
       "      <td>1605</td>\n",
       "    </tr>\n",
       "    <tr>\n",
       "      <th>2</th>\n",
       "      <td>3</td>\n",
       "      <td>21st - 40th</td>\n",
       "      <td>5981</td>\n",
       "      <td>5916</td>\n",
       "      <td>3361</td>\n",
       "      <td>4806</td>\n",
       "      <td>6214</td>\n",
       "      <td>7224</td>\n",
       "      <td>6308</td>\n",
       "      <td>7863</td>\n",
       "    </tr>\n",
       "    <tr>\n",
       "      <th>3</th>\n",
       "      <td>4</td>\n",
       "      <td>41st - 60th</td>\n",
       "      <td>9678</td>\n",
       "      <td>9434</td>\n",
       "      <td>4414</td>\n",
       "      <td>7001</td>\n",
       "      <td>9558</td>\n",
       "      <td>11074</td>\n",
       "      <td>10741</td>\n",
       "      <td>13136</td>\n",
       "    </tr>\n",
       "    <tr>\n",
       "      <th>4</th>\n",
       "      <td>5</td>\n",
       "      <td>61st - 80th</td>\n",
       "      <td>14407</td>\n",
       "      <td>13324</td>\n",
       "      <td>5928</td>\n",
       "      <td>9313</td>\n",
       "      <td>12986</td>\n",
       "      <td>15720</td>\n",
       "      <td>16853</td>\n",
       "      <td>20986</td>\n",
       "    </tr>\n",
       "    <tr>\n",
       "      <th>5</th>\n",
       "      <td>6</td>\n",
       "      <td>81st - 100th</td>\n",
       "      <td>26587</td>\n",
       "      <td>18012</td>\n",
       "      <td>10608</td>\n",
       "      <td>12291</td>\n",
       "      <td>16467</td>\n",
       "      <td>22312</td>\n",
       "      <td>30945</td>\n",
       "      <td>48056</td>\n",
       "    </tr>\n",
       "  </tbody>\n",
       "</table>\n",
       "</div>"
      ],
      "text/plain": [
       "   _id         Dollar Total3 HDBDwellings_TotalHDB  \\\n",
       "0    1          Total  11777                  8731   \n",
       "1    2  1st - 20th 2/   2235                  2293   \n",
       "2    3    21st - 40th   5981                  5916   \n",
       "3    4    41st - 60th   9678                  9434   \n",
       "4    5    61st - 80th  14407                 13324   \n",
       "5    6   81st - 100th  26587                 18012   \n",
       "\n",
       "  HDBDwellings_1_and2_RoomFlats4 HDBDwellings_3_RoomFlats  \\\n",
       "0                           2521                     5868   \n",
       "1                           1583                     2091   \n",
       "2                           3361                     4806   \n",
       "3                           4414                     7001   \n",
       "4                           5928                     9313   \n",
       "5                          10608                    12291   \n",
       "\n",
       "  HDBDwellings_4_RoomFlats HDBDwellings_5_RoomandExecutiveFlats  \\\n",
       "0                     8827                                12244   \n",
       "1                     2669                                 2668   \n",
       "2                     6214                                 7224   \n",
       "3                     9558                                11074   \n",
       "4                    12986                                15720   \n",
       "5                    16467                                22312   \n",
       "\n",
       "  CondominiumsandOtherApartments LandedProperties  \n",
       "0                          21830            28937  \n",
       "1                           1470             1605  \n",
       "2                           6308             7863  \n",
       "3                          10741            13136  \n",
       "4                          16853            20986  \n",
       "5                          30945            48056  "
      ]
     },
     "execution_count": 18,
     "metadata": {},
     "output_type": "execute_result"
    }
   ],
   "source": [
    "df"
   ]
  },
  {
   "cell_type": "markdown",
   "metadata": {},
   "source": [
    "References: https://stackoverflow.com/questions/66725556/the-json-object-must-be-str-bytes-or-bytearray-not-method"
   ]
  }
 ],
 "metadata": {
  "createdOn": 1681882948654,
  "creator": "admin",
  "customFields": {},
  "hide_input": false,
  "kernelspec": {
   "display_name": "Python (env python37)",
   "language": "python",
   "name": "py-dku-venv-python37"
  },
  "language_info": {
   "codemirror_mode": {
    "name": "ipython",
    "version": 3
   },
   "file_extension": ".py",
   "mimetype": "text/x-python",
   "name": "python",
   "nbconvert_exporter": "python",
   "pygments_lexer": "ipython3",
   "version": "3.7.13"
  },
  "modifiedBy": "admin",
  "tags": []
 },
 "nbformat": 4,
 "nbformat_minor": 1
}
