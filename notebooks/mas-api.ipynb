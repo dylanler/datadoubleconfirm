{
 "cells": [
  {
   "cell_type": "markdown",
   "metadata": {},
   "source": [
    "### This notebook shows how to query data on Interest Rates of Banks and Finance Companies, Monthly via the [Monetary Authority of Singapore (MAS) API](https://secure.mas.gov.sg/api/APIDescPage.aspx?resource_id=5f2b18a8-0883-4769-a635-879c63d3caac)."
   ]
  },
  {
   "cell_type": "code",
   "execution_count": 23,
   "metadata": {},
   "outputs": [],
   "source": [
    "import pandas as pd"
   ]
  },
  {
   "cell_type": "code",
   "execution_count": 2,
   "metadata": {},
   "outputs": [],
   "source": [
    "import urllib.request"
   ]
  },
  {
   "cell_type": "code",
   "execution_count": 5,
   "metadata": {},
   "outputs": [],
   "source": [
    "user_agent = 'Mozilla/5.0 (Windows; U; Windows NT 5.1; en-US; rv:1.9.0.7) Gecko/2009021910 Firefox/3.0.7'\n",
    "\n",
    "headers={'User-Agent':user_agent,} "
   ]
  },
  {
   "cell_type": "code",
   "execution_count": 6,
   "metadata": {},
   "outputs": [],
   "source": [
    "url = 'https://eservices.mas.gov.sg/api/action/datastore/search.json?resource_id=5f2b18a8-0883-4769-a635-879c63d3caac'\n",
    "\n",
    "request=urllib.request.Request(url,None,headers) #The assembled request\n",
    "response = urllib.request.urlopen(request)\n",
    "data = response.read() # The data u need\n",
    "\n",
    "#with urllib.request.urlopen (url) as req:\n",
    "#    print (req.read())"
   ]
  },
  {
   "cell_type": "code",
   "execution_count": 0,
   "metadata": {},
   "outputs": [],
   "source": [
    "data"
   ]
  },
  {
   "cell_type": "code",
   "execution_count": 11,
   "metadata": {},
   "outputs": [
    {
     "data": {
      "text/plain": [
       "bytes"
      ]
     },
     "execution_count": 11,
     "metadata": {},
     "output_type": "execute_result"
    }
   ],
   "source": [
    "type(data)"
   ]
  },
  {
   "cell_type": "code",
   "execution_count": 14,
   "metadata": {},
   "outputs": [],
   "source": [
    "import json"
   ]
  },
  {
   "cell_type": "code",
   "execution_count": 15,
   "metadata": {},
   "outputs": [],
   "source": [
    "data_json = json.loads(data)"
   ]
  },
  {
   "cell_type": "code",
   "execution_count": 0,
   "metadata": {},
   "outputs": [],
   "source": [
    "data_json"
   ]
  },
  {
   "cell_type": "code",
   "execution_count": 18,
   "metadata": {},
   "outputs": [
    {
     "data": {
      "text/plain": [
       "dict"
      ]
     },
     "execution_count": 18,
     "metadata": {},
     "output_type": "execute_result"
    }
   ],
   "source": [
    "type(data_json)"
   ]
  },
  {
   "cell_type": "code",
   "execution_count": 20,
   "metadata": {},
   "outputs": [
    {
     "data": {
      "text/plain": [
       "dict_keys(['success', 'result'])"
      ]
     },
     "execution_count": 20,
     "metadata": {},
     "output_type": "execute_result"
    }
   ],
   "source": [
    "data_json.keys()"
   ]
  },
  {
   "cell_type": "code",
   "execution_count": 24,
   "metadata": {},
   "outputs": [],
   "source": [
    "df = pd.json_normalize(data_json['result']['records'])"
   ]
  },
  {
   "cell_type": "code",
   "execution_count": 25,
   "metadata": {},
   "outputs": [
    {
     "data": {
      "text/html": [
       "\n",
       "            <button style=\"display:none\" \n",
       "            class=\"btn btn-default ipython-export-btn\" \n",
       "            id=\"btn-df-53f8cac0-f889-4d4d-b472-873ed22d0432\" \n",
       "            onclick=\"_export_df('53f8cac0-f889-4d4d-b472-873ed22d0432')\">\n",
       "                Export dataframe\n",
       "            </button>\n",
       "            \n",
       "            <script>\n",
       "                \n",
       "                function _check_export_df_possible(dfid,yes_fn,no_fn) {\n",
       "                    console.log('Checking dataframe exportability...')\n",
       "                    if(!IPython || !IPython.notebook || !IPython.notebook.kernel || !IPython.notebook.kernel) {\n",
       "                        console.log('Export is not possible (IPython kernel is not available)')\n",
       "                        if(no_fn) {\n",
       "                            no_fn();\n",
       "                        }\n",
       "                    } else {\n",
       "                        var pythonCode = 'from dataiku.notebook.export import IPythonExporter;IPythonExporter._check_export_stdout(\"'+dfid+'\")';\n",
       "                        IPython.notebook.kernel.execute(pythonCode,{iopub: {output: function(resp) {\n",
       "                            console.info(\"Exportability response\", resp);\n",
       "                            var size = /^([0-9]+)x([0-9]+)$/.exec(resp.content.data || resp.content.text)\n",
       "                            if(!size) {\n",
       "                                console.log('Export is not possible (dataframe is not in-memory anymore)')\n",
       "                                if(no_fn) {\n",
       "                                    no_fn();\n",
       "                                }\n",
       "                            } else {\n",
       "                                console.log('Export is possible')\n",
       "                                if(yes_fn) {\n",
       "                                    yes_fn(1*size[1],1*size[2]);\n",
       "                                }\n",
       "                            }\n",
       "                        }}});\n",
       "                    }\n",
       "                }\n",
       "            \n",
       "                function _export_df(dfid) {\n",
       "                    \n",
       "                    var btn = $('#btn-df-'+dfid);\n",
       "                    var btns = $('.ipython-export-btn');\n",
       "                    \n",
       "                    _check_export_df_possible(dfid,function() {\n",
       "                        \n",
       "                        window.parent.openExportModalFromIPython('Pandas dataframe',function(data) {\n",
       "                            btns.prop('disabled',true);\n",
       "                            btn.text('Exporting...');\n",
       "                            var command = 'from dataiku.notebook.export import IPythonExporter;IPythonExporter._run_export(\"'+dfid+'\",\"'+data.exportId+'\")';\n",
       "                            var callback = {iopub:{output: function(resp) {\n",
       "                                console.info(\"CB resp:\", resp);\n",
       "                                _check_export_df_possible(dfid,function(rows, cols) {\n",
       "                                    $('#btn-df-'+dfid)\n",
       "                                        .css('display','inline-block')\n",
       "                                        .text('Export this dataframe ('+rows+' rows, '+cols+' cols)')\n",
       "                                        .prop('disabled',false);\n",
       "                                },function() {\n",
       "                                    $('#btn-df-'+dfid).css('display','none');\n",
       "                                });\n",
       "                            }}};\n",
       "                            IPython.notebook.kernel.execute(command,callback,{silent:false}); // yes, silent now defaults to true. figures.\n",
       "                        });\n",
       "                    \n",
       "                    }, function(){\n",
       "                            alert('Unable to export : the Dataframe object is not loaded in memory');\n",
       "                            btn.css('display','none');\n",
       "                    });\n",
       "                    \n",
       "                }\n",
       "                \n",
       "                (function(dfid) {\n",
       "                \n",
       "                    var retryCount = 10;\n",
       "                \n",
       "                    function is_valid_websock(s) {\n",
       "                        return s && s.readyState==1;\n",
       "                    }\n",
       "                \n",
       "                    function check_conn() {\n",
       "                        \n",
       "                        if(!IPython || !IPython.notebook) {\n",
       "                            // Don't even try to go further\n",
       "                            return;\n",
       "                        }\n",
       "                        \n",
       "                        // Check if IPython is ready\n",
       "                        console.info(\"Checking conn ...\")\n",
       "                        if(IPython.notebook.kernel\n",
       "                        && IPython.notebook.kernel\n",
       "                        && is_valid_websock(IPython.notebook.kernel.ws)\n",
       "                        ) {\n",
       "                            \n",
       "                            _check_export_df_possible(dfid,function(rows, cols) {\n",
       "                                $('#btn-df-'+dfid).css('display','inline-block');\n",
       "                                $('#btn-df-'+dfid).text('Export this dataframe ('+rows+' rows, '+cols+' cols)');\n",
       "                            });\n",
       "                            \n",
       "                        } else {\n",
       "                            console.info(\"Conditions are not ok\", IPython.notebook.kernel);\n",
       "                            \n",
       "                            // Retry later\n",
       "                            \n",
       "                            if(retryCount>0) {\n",
       "                                setTimeout(check_conn,500);\n",
       "                                retryCount--;\n",
       "                            }\n",
       "                            \n",
       "                        }\n",
       "                    };\n",
       "                    \n",
       "                    setTimeout(check_conn,100);\n",
       "                    \n",
       "                })(\"53f8cac0-f889-4d4d-b472-873ed22d0432\");\n",
       "                \n",
       "            </script>\n",
       "            \n",
       "        <div>\n",
       "<style scoped>\n",
       "    .dataframe tbody tr th:only-of-type {\n",
       "        vertical-align: middle;\n",
       "    }\n",
       "\n",
       "    .dataframe tbody tr th {\n",
       "        vertical-align: top;\n",
       "    }\n",
       "\n",
       "    .dataframe thead th {\n",
       "        text-align: right;\n",
       "    }\n",
       "</style>\n",
       "<table border=\"1\" class=\"dataframe\">\n",
       "  <thead>\n",
       "    <tr style=\"text-align: right;\">\n",
       "      <th></th>\n",
       "      <th>end_of_month</th>\n",
       "      <th>prime_lending_rate</th>\n",
       "      <th>banks_fixed_deposits_3m</th>\n",
       "      <th>banks_fixed_deposits_6m</th>\n",
       "      <th>banks_fixed_deposits_12m</th>\n",
       "      <th>banks_savings_deposits</th>\n",
       "      <th>fc_hire_purchase_motor_3y</th>\n",
       "      <th>fc_housing_loans_15y</th>\n",
       "      <th>fc_fixed_deposits_3m</th>\n",
       "      <th>fc_fixed_deposits_6m</th>\n",
       "      <th>fc_fixed_deposits_12m</th>\n",
       "      <th>fc_savings_deposits</th>\n",
       "      <th>timestamp</th>\n",
       "    </tr>\n",
       "  </thead>\n",
       "  <tbody>\n",
       "    <tr>\n",
       "      <th>0</th>\n",
       "      <td>1983-01</td>\n",
       "      <td>9.53</td>\n",
       "      <td>6.75</td>\n",
       "      <td>6.80</td>\n",
       "      <td>7.13</td>\n",
       "      <td>6.50</td>\n",
       "      <td>12.67</td>\n",
       "      <td>12.42</td>\n",
       "      <td>7.15</td>\n",
       "      <td>7.30</td>\n",
       "      <td>7.70</td>\n",
       "      <td>7.21</td>\n",
       "      <td>1681685795</td>\n",
       "    </tr>\n",
       "    <tr>\n",
       "      <th>1</th>\n",
       "      <td>1983-02</td>\n",
       "      <td>9.25</td>\n",
       "      <td>6.40</td>\n",
       "      <td>6.70</td>\n",
       "      <td>6.93</td>\n",
       "      <td>6.40</td>\n",
       "      <td>12.58</td>\n",
       "      <td>12.21</td>\n",
       "      <td>6.70</td>\n",
       "      <td>7.03</td>\n",
       "      <td>7.33</td>\n",
       "      <td>7.08</td>\n",
       "      <td>1681685795</td>\n",
       "    </tr>\n",
       "    <tr>\n",
       "      <th>2</th>\n",
       "      <td>1983-03</td>\n",
       "      <td>9.10</td>\n",
       "      <td>6.18</td>\n",
       "      <td>6.48</td>\n",
       "      <td>6.83</td>\n",
       "      <td>6.30</td>\n",
       "      <td>12.36</td>\n",
       "      <td>11.97</td>\n",
       "      <td>6.48</td>\n",
       "      <td>6.78</td>\n",
       "      <td>7.18</td>\n",
       "      <td>7.00</td>\n",
       "      <td>1681685795</td>\n",
       "    </tr>\n",
       "    <tr>\n",
       "      <th>3</th>\n",
       "      <td>1983-04</td>\n",
       "      <td>9.03</td>\n",
       "      <td>6.10</td>\n",
       "      <td>6.35</td>\n",
       "      <td>6.73</td>\n",
       "      <td>6.15</td>\n",
       "      <td>12.19</td>\n",
       "      <td>11.92</td>\n",
       "      <td>6.38</td>\n",
       "      <td>6.65</td>\n",
       "      <td>7.13</td>\n",
       "      <td>7.00</td>\n",
       "      <td>1681685795</td>\n",
       "    </tr>\n",
       "    <tr>\n",
       "      <th>4</th>\n",
       "      <td>1983-05</td>\n",
       "      <td>9.03</td>\n",
       "      <td>6.10</td>\n",
       "      <td>6.35</td>\n",
       "      <td>6.73</td>\n",
       "      <td>6.13</td>\n",
       "      <td>12.14</td>\n",
       "      <td>11.84</td>\n",
       "      <td>6.50</td>\n",
       "      <td>6.75</td>\n",
       "      <td>7.18</td>\n",
       "      <td>7.00</td>\n",
       "      <td>1681685795</td>\n",
       "    </tr>\n",
       "    <tr>\n",
       "      <th>...</th>\n",
       "      <td>...</td>\n",
       "      <td>...</td>\n",
       "      <td>...</td>\n",
       "      <td>...</td>\n",
       "      <td>...</td>\n",
       "      <td>...</td>\n",
       "      <td>...</td>\n",
       "      <td>...</td>\n",
       "      <td>...</td>\n",
       "      <td>...</td>\n",
       "      <td>...</td>\n",
       "      <td>...</td>\n",
       "      <td>...</td>\n",
       "    </tr>\n",
       "    <tr>\n",
       "      <th>477</th>\n",
       "      <td>2022-10</td>\n",
       "      <td>None</td>\n",
       "      <td>None</td>\n",
       "      <td>None</td>\n",
       "      <td>None</td>\n",
       "      <td>None</td>\n",
       "      <td>5.49</td>\n",
       "      <td>None</td>\n",
       "      <td>0.65</td>\n",
       "      <td>0.15</td>\n",
       "      <td>1.17</td>\n",
       "      <td>0.13</td>\n",
       "      <td>1681685795</td>\n",
       "    </tr>\n",
       "    <tr>\n",
       "      <th>478</th>\n",
       "      <td>2022-11</td>\n",
       "      <td>None</td>\n",
       "      <td>None</td>\n",
       "      <td>None</td>\n",
       "      <td>None</td>\n",
       "      <td>None</td>\n",
       "      <td>5.49</td>\n",
       "      <td>None</td>\n",
       "      <td>1.13</td>\n",
       "      <td>0.15</td>\n",
       "      <td>1.47</td>\n",
       "      <td>0.13</td>\n",
       "      <td>1681685795</td>\n",
       "    </tr>\n",
       "    <tr>\n",
       "      <th>479</th>\n",
       "      <td>2022-12</td>\n",
       "      <td>None</td>\n",
       "      <td>None</td>\n",
       "      <td>None</td>\n",
       "      <td>None</td>\n",
       "      <td>None</td>\n",
       "      <td>5.49</td>\n",
       "      <td>None</td>\n",
       "      <td>1.23</td>\n",
       "      <td>0.15</td>\n",
       "      <td>1.48</td>\n",
       "      <td>0.13</td>\n",
       "      <td>1681685795</td>\n",
       "    </tr>\n",
       "    <tr>\n",
       "      <th>480</th>\n",
       "      <td>2023-01</td>\n",
       "      <td>None</td>\n",
       "      <td>None</td>\n",
       "      <td>None</td>\n",
       "      <td>None</td>\n",
       "      <td>None</td>\n",
       "      <td>5.49</td>\n",
       "      <td>None</td>\n",
       "      <td>1.23</td>\n",
       "      <td>0.15</td>\n",
       "      <td>1.48</td>\n",
       "      <td>0.13</td>\n",
       "      <td>1681685795</td>\n",
       "    </tr>\n",
       "    <tr>\n",
       "      <th>481</th>\n",
       "      <td>2023-02</td>\n",
       "      <td>None</td>\n",
       "      <td>None</td>\n",
       "      <td>None</td>\n",
       "      <td>None</td>\n",
       "      <td>None</td>\n",
       "      <td>5.49</td>\n",
       "      <td>None</td>\n",
       "      <td>1.22</td>\n",
       "      <td>0.15</td>\n",
       "      <td>1.43</td>\n",
       "      <td>0.13</td>\n",
       "      <td>1681685795</td>\n",
       "    </tr>\n",
       "  </tbody>\n",
       "</table>\n",
       "<p>482 rows × 13 columns</p>\n",
       "</div>"
      ],
      "text/plain": [
       "    end_of_month prime_lending_rate banks_fixed_deposits_3m banks_fixed_deposits_6m banks_fixed_deposits_12m banks_savings_deposits fc_hire_purchase_motor_3y fc_housing_loans_15y fc_fixed_deposits_3m fc_fixed_deposits_6m fc_fixed_deposits_12m fc_savings_deposits   timestamp\n",
       "0        1983-01               9.53                    6.75                    6.80                     7.13                   6.50                     12.67                12.42                 7.15                 7.30                  7.70                7.21  1681685795\n",
       "1        1983-02               9.25                    6.40                    6.70                     6.93                   6.40                     12.58                12.21                 6.70                 7.03                  7.33                7.08  1681685795\n",
       "2        1983-03               9.10                    6.18                    6.48                     6.83                   6.30                     12.36                11.97                 6.48                 6.78                  7.18                7.00  1681685795\n",
       "3        1983-04               9.03                    6.10                    6.35                     6.73                   6.15                     12.19                11.92                 6.38                 6.65                  7.13                7.00  1681685795\n",
       "4        1983-05               9.03                    6.10                    6.35                     6.73                   6.13                     12.14                11.84                 6.50                 6.75                  7.18                7.00  1681685795\n",
       "..           ...                ...                     ...                     ...                      ...                    ...                       ...                  ...                  ...                  ...                   ...                 ...         ...\n",
       "477      2022-10               None                    None                    None                     None                   None                      5.49                 None                 0.65                 0.15                  1.17                0.13  1681685795\n",
       "478      2022-11               None                    None                    None                     None                   None                      5.49                 None                 1.13                 0.15                  1.47                0.13  1681685795\n",
       "479      2022-12               None                    None                    None                     None                   None                      5.49                 None                 1.23                 0.15                  1.48                0.13  1681685795\n",
       "480      2023-01               None                    None                    None                     None                   None                      5.49                 None                 1.23                 0.15                  1.48                0.13  1681685795\n",
       "481      2023-02               None                    None                    None                     None                   None                      5.49                 None                 1.22                 0.15                  1.43                0.13  1681685795\n",
       "\n",
       "[482 rows x 13 columns]"
      ]
     },
     "execution_count": 25,
     "metadata": {},
     "output_type": "execute_result"
    }
   ],
   "source": [
    "df"
   ]
  },
  {
   "cell_type": "code",
   "execution_count": 27,
   "metadata": {},
   "outputs": [
    {
     "data": {
      "text/plain": [
       "['end_of_month',\n",
       " 'prime_lending_rate',\n",
       " 'banks_fixed_deposits_3m',\n",
       " 'banks_fixed_deposits_6m',\n",
       " 'banks_fixed_deposits_12m',\n",
       " 'banks_savings_deposits',\n",
       " 'fc_hire_purchase_motor_3y',\n",
       " 'fc_housing_loans_15y',\n",
       " 'fc_fixed_deposits_3m',\n",
       " 'fc_fixed_deposits_6m',\n",
       " 'fc_fixed_deposits_12m',\n",
       " 'fc_savings_deposits',\n",
       " 'timestamp']"
      ]
     },
     "execution_count": 27,
     "metadata": {},
     "output_type": "execute_result"
    }
   ],
   "source": [
    "list(df)"
   ]
  },
  {
   "cell_type": "markdown",
   "metadata": {},
   "source": [
    "Resources:   \n",
    "https://stackoverflow.com/questions/13303449/urllib2-httperror-http-error-403-forbidden"
   ]
  }
 ],
 "metadata": {
  "createdOn": 1681656129139,
  "creator": "huixiang.chua",
  "customFields": {},
  "hide_input": false,
  "kernelspec": {
   "display_name": "Python (env py_36_hx_general)",
   "language": "python",
   "name": "py-dku-venv-py_36_hx_general"
  },
  "language_info": {
   "codemirror_mode": {
    "name": "ipython",
    "version": 3
   },
   "file_extension": ".py",
   "mimetype": "text/x-python",
   "name": "python",
   "nbconvert_exporter": "python",
   "pygments_lexer": "ipython3",
   "version": "3.6.8"
  },
  "modifiedBy": "huixiang.chua",
  "tags": []
 },
 "nbformat": 4,
 "nbformat_minor": 1
}
