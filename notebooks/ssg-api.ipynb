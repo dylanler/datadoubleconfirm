{
 "cells": [
  {
   "cell_type": "markdown",
   "metadata": {},
   "source": [
    "### This notebook shows how to use the SkillsFuture API to [retrieve courses](https://developer.ssg-wsg.gov.sg/webapp/docs/product/6kYpfJEWVb7NyYVVHvUmHi/group/2reSbYZjfhi3WWeLp4BlQ4). The results of the API call is converted from json to pandas dataframe and then uploaded as csv to a Dataiku folder."
   ]
  },
  {
   "cell_type": "code",
   "execution_count": 1,
   "metadata": {},
   "outputs": [],
   "source": [
    "from requests_oauthlib import OAuth2Session"
   ]
  },
  {
   "cell_type": "code",
   "execution_count": 2,
   "metadata": {},
   "outputs": [],
   "source": [
    "from oauthlib.oauth2 import BackendApplicationClient"
   ]
  },
  {
   "cell_type": "code",
   "execution_count": 3,
   "metadata": {},
   "outputs": [],
   "source": [
    "from pandas.io.json import json_normalize"
   ]
  },
  {
   "cell_type": "code",
   "execution_count": 1,
   "metadata": {},
   "outputs": [],
   "source": [
    "import dataiku\n",
    "from dataiku import pandasutils as pdu"
   ]
  },
  {
   "cell_type": "code",
   "execution_count": 6,
   "metadata": {},
   "outputs": [],
   "source": [
    "import os"
   ]
  },
  {
   "cell_type": "code",
   "execution_count": 4,
   "metadata": {},
   "outputs": [],
   "source": [
    "import pandas as pd"
   ]
  },
  {
   "cell_type": "code",
   "execution_count": 4,
   "metadata": {},
   "outputs": [],
   "source": [
    "import time"
   ]
  },
  {
   "cell_type": "code",
   "execution_count": 5,
   "metadata": {},
   "outputs": [],
   "source": [
    "##create account here: https://developer.ssg-wsg.gov.sg/webapp/docs to get id and secret for auth to use api.\n",
    "client_id = \"#####\"\n",
    "client_secret = \"000000000\"  "
   ]
  },
  {
   "cell_type": "code",
   "execution_count": 32,
   "metadata": {},
   "outputs": [],
   "source": [
    "managed_folder_id = \"ssg\"\n",
    "output_folder = dataiku.Folder(managed_folder_id)"
   ]
  },
  {
   "cell_type": "code",
   "execution_count": 35,
   "metadata": {
    "scrolled": true
   },
   "outputs": [
    {
     "name": "stdout",
     "output_type": "stream",
     "text": [
      "0\n",
      "Status Code=  200\n"
     ]
    }
   ],
   "source": [
    "for i in range(0,1):\n",
    "    request_url = \"https://public-api.ssg-wsg.sg/courses/directory?pageSize=100&page={i}&taggingCodes=1,2&courseSupportEndDate=20190923&retrieveType=FULL\".format(i=i)\n",
    "    #print(request_url)\n",
    "    print(i)\n",
    "    client = BackendApplicationClient(client_id=client_id)\n",
    "    oauth = OAuth2Session(client=client)\n",
    "    token = oauth.fetch_token(\n",
    "        token_url='https://public-api.ssg-wsg.sg/dp-oauth/oauth/token',\n",
    "        client_id=client_id,\n",
    "        client_secret=client_secret\n",
    "    )\n",
    "\n",
    "    response = oauth.get(request_url)\n",
    "    print(\"Status Code= \", response.status_code)\n",
    "    j = response.json()\n",
    "    df = pd.DataFrame.from_dict(j)\n",
    "    df2 = json_normalize(df[\"data\"][\"courses\"])\n",
    "    \n",
    "    filename = \"data_{i}.csv\".format(i=i)\n",
    "    output_folder.upload_data(filename, df2.to_csv(index=False).encode(\"utf-8\"))\n",
    "    time.sleep(2)"
   ]
  }
 ],
 "metadata": {
  "createdOn": 1661935492306,
  "creator": "admin",
  "customFields": {},
  "hide_input": false,
  "kernelspec": {
   "display_name": "Python 3",
   "language": "python",
   "name": "python3"
  },
  "language_info": {
   "codemirror_mode": {
    "name": "ipython",
    "version": 3
   },
   "file_extension": ".py",
   "mimetype": "text/x-python",
   "name": "python",
   "nbconvert_exporter": "python",
   "pygments_lexer": "ipython3",
   "version": "3.8.8"
  },
  "modifiedBy": "admin",
  "tags": [],
  "versionNumber": 1
 },
 "nbformat": 4,
 "nbformat_minor": 1
}
